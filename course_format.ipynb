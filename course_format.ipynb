{
 "cells": [
  {
   "cell_type": "markdown",
   "metadata": {
    "tags": [
     "s1",
     "content"
    ]
   },
   "source": [
    "# PYTHON INTRODUCTION\n",
    "\n",
    "\n",
    "## Variables in python\n",
    "Variable is just a name that stores data.\n",
    "To create a variable, you have to use '=' operator.\n",
    "`my_var = 100`\n",
    "\n",
    "\n",
    "## Exercise\n",
    "\n",
    "- create a variable with name 'stoic' and assign 999 to it."
   ]
  },
  {
   "cell_type": "code",
   "execution_count": 4,
   "metadata": {
    "has_completed": true,
    "tags": [
     "s1",
     "ce"
    ]
   },
   "outputs": [
    {
     "name": "stdout",
     "output_type": "stream",
     "text": [
      "my_var is 100\n"
     ]
    }
   ],
   "source": [
    "#some initial code here, to help start the user.\n",
    "\n",
    "my_var = 100\n",
    "print('my_var is %d' % my_var)\n",
    "\n",
    "# write your code here.\n"
   ]
  },
  {
   "cell_type": "markdown",
   "metadata": {
    "tags": [
     "s1",
     "hint"
    ]
   },
   "source": [
    "#### this is the hint block, use code cell or markdown cell, but remember it wont get executed, so better go with markdown.\n",
    "\n",
    "Use '=' operator to create and assign value to variable."
   ]
  },
  {
   "cell_type": "code",
   "execution_count": null,
   "metadata": {
    "collapsed": true,
    "tags": [
     "s1",
     "ans"
    ]
   },
   "outputs": [],
   "source": [
    "# this is the answer block, always use the code cell.\n",
    "\n",
    "stoic = 999\n",
    "print(stoic)"
   ]
  }
 ],
 "metadata": {
  "executed_sections": [
   "s1"
  ],
  "kernelspec": {
   "display_name": "Python 3",
   "language": "python",
   "name": "python3"
  },
  "language_info": {
   "codemirror_mode": {
    "name": "ipython",
    "version": 3
   },
   "file_extension": ".py",
   "mimetype": "text/x-python",
   "name": "python",
   "nbconvert_exporter": "python",
   "pygments_lexer": "ipython3",
   "version": "3.5.2"
  }
 },
 "nbformat": 4,
 "nbformat_minor": 2
}